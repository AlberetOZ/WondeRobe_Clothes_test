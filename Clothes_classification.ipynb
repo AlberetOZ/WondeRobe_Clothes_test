{
  "nbformat": 4,
  "nbformat_minor": 0,
  "metadata": {
    "colab": {
      "name": "Clothes_classification.ipynb",
      "provenance": [],
      "authorship_tag": "ABX9TyMrN5zxvla3Uzoj9/0P1SXC"
    },
    "kernelspec": {
      "name": "python3",
      "display_name": "Python 3"
    }
  },
  "cells": [
    {
      "cell_type": "code",
      "metadata": {
        "id": "Y9vrvRsy1nwE",
        "colab_type": "code",
        "colab": {}
      },
      "source": [
        ""
      ],
      "execution_count": null,
      "outputs": []
    }
  ]
}